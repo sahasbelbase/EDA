{
 "cells": [
  {
   "cell_type": "code",
   "execution_count": 2,
   "id": "25e6e1d6",
   "metadata": {},
   "outputs": [
    {
     "name": "stdout",
     "output_type": "stream",
     "text": [
      "2.18.0\n"
     ]
    }
   ],
   "source": [
    "import tensorflow as tf\n",
    "print(tf.__version__)"
   ]
  },
  {
   "cell_type": "code",
   "execution_count": null,
   "id": "f97bfaaa",
   "metadata": {},
   "outputs": [],
   "source": []
  },
  {
   "cell_type": "code",
   "execution_count": 3,
   "id": "660a1c5e",
   "metadata": {
    "scrolled": true
   },
   "outputs": [
    {
     "ename": "ModuleNotFoundError",
     "evalue": "No module named 'matplotlib'",
     "output_type": "error",
     "traceback": [
      "\u001b[1;31m---------------------------------------------------------------------------\u001b[0m",
      "\u001b[1;31mModuleNotFoundError\u001b[0m                       Traceback (most recent call last)",
      "Cell \u001b[1;32mIn[3], line 4\u001b[0m\n\u001b[0;32m      2\u001b[0m \u001b[38;5;28;01mfrom\u001b[39;00m \u001b[38;5;21;01mtensorflow\u001b[39;00m\u001b[38;5;21;01m.\u001b[39;00m\u001b[38;5;21;01mkeras\u001b[39;00m \u001b[38;5;28;01mimport\u001b[39;00m layers, models\n\u001b[0;32m      3\u001b[0m \u001b[38;5;28;01mfrom\u001b[39;00m \u001b[38;5;21;01mtensorflow\u001b[39;00m\u001b[38;5;21;01m.\u001b[39;00m\u001b[38;5;21;01mkeras\u001b[39;00m\u001b[38;5;21;01m.\u001b[39;00m\u001b[38;5;21;01mdatasets\u001b[39;00m \u001b[38;5;28;01mimport\u001b[39;00m cifar10\n\u001b[1;32m----> 4\u001b[0m \u001b[38;5;28;01mimport\u001b[39;00m \u001b[38;5;21;01mmatplotlib\u001b[39;00m\u001b[38;5;21;01m.\u001b[39;00m\u001b[38;5;21;01mpyplot\u001b[39;00m \u001b[38;5;28;01mas\u001b[39;00m \u001b[38;5;21;01mplt\u001b[39;00m\n\u001b[0;32m      5\u001b[0m \u001b[38;5;28;01mimport\u001b[39;00m \u001b[38;5;21;01mnumpy\u001b[39;00m \u001b[38;5;28;01mas\u001b[39;00m \u001b[38;5;21;01mnp\u001b[39;00m\n\u001b[0;32m      6\u001b[0m \u001b[38;5;28;01mimport\u001b[39;00m \u001b[38;5;21;01mpandas\u001b[39;00m \u001b[38;5;28;01mas\u001b[39;00m \u001b[38;5;21;01mpd\u001b[39;00m\n",
      "\u001b[1;31mModuleNotFoundError\u001b[0m: No module named 'matplotlib'"
     ]
    }
   ],
   "source": [
    "import tensorflow as tf\n",
    "from tensorflow.keras import layers, models\n",
    "from tensorflow.keras.datasets import cifar10\n",
    "import matplotlib.pyplot as plt\n",
    "import numpy as np\n",
    "import pandas as pd"
   ]
  },
  {
   "cell_type": "code",
   "execution_count": 6,
   "id": "4e2fd1fe",
   "metadata": {},
   "outputs": [
    {
     "ename": "NameError",
     "evalue": "name 'cifar10' is not defined",
     "output_type": "error",
     "traceback": [
      "\u001b[1;31m---------------------------------------------------------------------------\u001b[0m",
      "\u001b[1;31mNameError\u001b[0m                                 Traceback (most recent call last)",
      "Cell \u001b[1;32mIn[6], line 2\u001b[0m\n\u001b[0;32m      1\u001b[0m \u001b[38;5;66;03m# Load the CIFAR-10 dataset\u001b[39;00m\n\u001b[1;32m----> 2\u001b[0m (x_train, y_train), (x_test, y_test) \u001b[38;5;241m=\u001b[39m cifar10\u001b[38;5;241m.\u001b[39mload_data()\n",
      "\u001b[1;31mNameError\u001b[0m: name 'cifar10' is not defined"
     ]
    }
   ],
   "source": [
    "# Load the CIFAR-10 dataset\n",
    "(x_train, y_train), (x_test, y_test) = cifar10.load_data()\n"
   ]
  },
  {
   "cell_type": "code",
   "execution_count": null,
   "id": "abcfec6c",
   "metadata": {},
   "outputs": [],
   "source": [
    "# Normalize the dataset\n",
    "x_train = x_train / 255.0\n",
    "x_test = x_test / 255.0"
   ]
  },
  {
   "cell_type": "code",
   "execution_count": null,
   "id": "31c37887",
   "metadata": {},
   "outputs": [],
   "source": [
    "# Convert labels to one-hot encoding\n",
    "y_train = tf.keras.utils.to_categorical(y_train, 10)\n",
    "y_test = tf.keras.utils.to_categorical(y_test, 10)"
   ]
  },
  {
   "cell_type": "code",
   "execution_count": null,
   "id": "cf4bc206",
   "metadata": {},
   "outputs": [],
   "source": [
    "# Display some sample images\n",
    "for i in range(5):\n",
    "    plt.imshow(x_train[i])\n",
    "    plt.title(f\"Label: {np.argmax(y_train[i])}\")\n",
    "    plt.show()"
   ]
  },
  {
   "cell_type": "code",
   "execution_count": null,
   "id": "c7da0456",
   "metadata": {},
   "outputs": [],
   "source": [
    "def create_model(activation='relu', pooling='max'):\n",
    "    model = models.Sequential()\n",
    "    \n",
    "    # Add convolutional layers\n",
    "    model.add(layers.Conv2D(32, (3, 3), activation=activation, input_shape=(32, 32, 3)))\n",
    "    model.add(layers.Conv2D(64, (3, 3), activation=activation))\n",
    "    \n",
    "    # Add pooling layer\n",
    "    if pooling == 'max':\n",
    "        model.add(layers.MaxPooling2D((2, 2)))\n",
    "    elif pooling == 'avg':\n",
    "        model.add(layers.AveragePooling2D((2, 2)))\n",
    "    \n",
    "    # Add dropout\n",
    "    model.add(layers.Dropout(0.25))\n",
    "    \n",
    "    # Flatten and add dense layers\n",
    "    model.add(layers.Flatten())\n",
    "    model.add(layers.Dense(128, activation=activation))\n",
    "    model.add(layers.Dense(10, activation='softmax'))\n",
    "    \n",
    "    # Compile the model\n",
    "    model.compile(optimizer='adam',\n",
    "                  loss='categorical_crossentropy',\n",
    "                  metrics=['accuracy'])\n",
    "    return model\n"
   ]
  },
  {
   "cell_type": "code",
   "execution_count": null,
   "id": "e51453e0",
   "metadata": {},
   "outputs": [],
   "source": [
    "def experiment_with_models(activations, poolings, num_epochs=10, batch_size=64):\n",
    "    results = []\n",
    "    \n",
    "    for activation in activations:\n",
    "        for pooling in poolings:\n",
    "            print(f\"Training model with Activation: {activation}, Pooling: {pooling}\")\n",
    "            \n",
    "            # Create and train the model\n",
    "            model = create_model(activation=activation, pooling=pooling)\n",
    "            history = model.fit(x_train, y_train, epochs=num_epochs, batch_size=batch_size,\n",
    "                                validation_data=(x_test, y_test), verbose=1)\n",
    "            \n",
    "            # Evaluate the model\n",
    "            test_loss, test_acc = model.evaluate(x_test, y_test, verbose=0)\n",
    "            print(f\"Test Accuracy: {test_acc:.4f}\")\n",
    "            \n",
    "            # Store the results\n",
    "            results.append({\n",
    "                'activation': activation,\n",
    "                'pooling': pooling,\n",
    "                'test_accuracy': test_acc,\n",
    "                'history': history.history\n",
    "            })\n",
    "    \n",
    "    return results\n"
   ]
  },
  {
   "cell_type": "code",
   "execution_count": null,
   "id": "09ec1c53",
   "metadata": {},
   "outputs": [],
   "source": [
    "# Function to plot training vs. validation accuracy\n",
    "def plot_results(results):\n",
    "    for result in results:\n",
    "        history = result['history']\n",
    "        activation = result['activation']\n",
    "        pooling = result['pooling']\n",
    "        \n",
    "        # Plot accuracy\n",
    "        plt.figure(figsize=(10, 6))\n",
    "        plt.plot(history['accuracy'], label='Training Accuracy')\n",
    "        plt.plot(history['val_accuracy'], label='Validation Accuracy')\n",
    "        plt.title(f\"Activation: {activation}, Pooling: {pooling}\")\n",
    "        plt.xlabel('Epochs')\n",
    "        plt.ylabel('Accuracy')\n",
    "        plt.legend()\n",
    "        plt.grid()\n",
    "        plt.show()\n",
    "\n",
    "# Function to summarize results\n",
    "def summarize_results(results):\n",
    "    summary = pd.DataFrame([{\n",
    "        'Activation': result['activation'],\n",
    "        'Pooling': result['pooling'],\n",
    "        'Test Accuracy': result['test_accuracy']\n",
    "    } for result in results])\n",
    "    \n",
    "    print(summary.sort_values(by='Test Accuracy', ascending=False))\n"
   ]
  },
  {
   "cell_type": "code",
   "execution_count": null,
   "id": "2d5a4605",
   "metadata": {},
   "outputs": [],
   "source": [
    "# Define the configurations to test\n",
    "activations = ['relu', 'tanh', 'sigmoid']\n",
    "poolings = ['max', 'avg']\n",
    "\n",
    "# Run experiments\n",
    "results = experiment_with_models(activations, poolings, num_epochs=5)\n",
    "\n",
    "# Visualize the results\n",
    "plot_results(results)\n",
    "\n",
    "# Summarize the results\n",
    "summarize_results(results)\n"
   ]
  }
 ],
 "metadata": {
  "kernelspec": {
   "display_name": "Python 3",
   "language": "python",
   "name": "python3"
  },
  "language_info": {
   "codemirror_mode": {
    "name": "ipython",
    "version": 3
   },
   "file_extension": ".py",
   "mimetype": "text/x-python",
   "name": "python",
   "nbconvert_exporter": "python",
   "pygments_lexer": "ipython3",
   "version": "3.12.1"
  }
 },
 "nbformat": 4,
 "nbformat_minor": 5
}
